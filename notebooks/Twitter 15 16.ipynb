{
 "cells": [
  {
   "cell_type": "code",
   "execution_count": 19,
   "metadata": {},
   "outputs": [],
   "source": [
    "from os import listdir\n",
    "from os.path import isfile, join\n",
    "import tweepy\n",
    "from pprint import pprint"
   ]
  },
  {
   "cell_type": "code",
   "execution_count": 20,
   "metadata": {},
   "outputs": [],
   "source": [
    "consumer_key = '9TvVKS8HRroMN4wQtBdzNA'\n",
    "consumer_secret = 'BrmSzXi4sGzDiRdj7kbPHMRLQNMkbpHeDqtLhWPhU'\n",
    "access_token = '1287392767-m7gcpy3wkpNpvMpywC9wwBTzIivWVXvLabhZMlA'\n",
    "access_token_secret = 'RHNCzFoLOpUHZhLQu7mDkJGsgtA3xtpKm35596ZfuRY'\n",
    "\n",
    "auth = tweepy.OAuthHandler(consumer_key, consumer_secret)\n",
    "auth.set_access_token(access_token, access_token_secret)\n",
    "\n",
    "api = tweepy.API(auth, wait_on_rate_limit=True, wait_on_rate_limit_notify=True)"
   ]
  },
  {
   "cell_type": "code",
   "execution_count": 4,
   "metadata": {},
   "outputs": [],
   "source": [
    "data_dir = '/data/rumor_detection/data/rumor_acl/rumor_detection_acl2017/twitter15/tree'"
   ]
  },
  {
   "cell_type": "code",
   "execution_count": 2,
   "metadata": {},
   "outputs": [],
   "source": [
    "crawled_ids = set()\n",
    "\n",
    "with open('/data/rumor_detection/data/rumor_acl/rumor_detection_acl2017/twitter15/tweet_contents.txt', 'r') as file:\n",
    "    for line in file:\n",
    "        line_arr = line.split('\\t')\n",
    "        crawled_ids.add(line_arr[0])"
   ]
  },
  {
   "cell_type": "code",
   "execution_count": 31,
   "metadata": {},
   "outputs": [],
   "source": [
    "source_cannot_crawl_dict = {}\n",
    "cannot_crawl_ids = set()\n",
    "\n",
    "for f in listdir(data_dir):\n",
    "    file_path = join(data_dir, f)\n",
    "\n",
    "    if isfile(file_path) and '.txt' in file_path:\n",
    "        with open(file_path, 'r') as file:\n",
    "            for index, line in enumerate(file):\n",
    "                line_arr = line.split(\"'\")\n",
    "                user1 = line_arr[1]\n",
    "                tweet1 = line_arr[3]\n",
    "                user2 = line_arr[7]\n",
    "                tweet2 = line_arr[9]\n",
    "                \n",
    "                if user1 == \"ROOT\":\n",
    "                    source_id = tweet2\n",
    "                    source_user = user2\n",
    "                    if source_id not in crawled_ids:\n",
    "                        source_cannot_crawl_dict[source_user] = source_id\n",
    "\n",
    "                if tweet1 not in crawled_ids:\n",
    "                    cannot_crawl_ids.add(tweet1)\n",
    "#                     writer.write(user1 + '\\t' + tweet1 + '\\n')\n",
    "\n",
    "                if tweet2 not in crawled_ids:\n",
    "                    cannot_crawl_ids.add(tweet2)\n",
    "#                     writer.write(user2 + '\\t' + tweet2 + '\\n')"
   ]
  },
  {
   "cell_type": "code",
   "execution_count": 12,
   "metadata": {},
   "outputs": [],
   "source": [
    "with open('/data/rumor_detection/data/rumor_acl/rumor_detection_acl2017/twitter15/cannot_crawl_ids.txt', 'w') as writer:\n",
    "    for tweet in cannot_crawl_ids:\n",
    "        writer.write(tweet + '\\n')"
   ]
  },
  {
   "cell_type": "code",
   "execution_count": 34,
   "metadata": {},
   "outputs": [],
   "source": [
    "user_list = api.lookup_users(list(source_cannot_crawl_dict.keys()))"
   ]
  },
  {
   "cell_type": "code",
   "execution_count": 46,
   "metadata": {
    "scrolled": true
   },
   "outputs": [
    {
     "name": "stdout",
     "output_type": "stream",
     "text": [
      "https://twitter.com/ladbible/status/524646141938647043\n",
      "https://twitter.com/DavidJoBrexit/status/516636338679197697\n",
      "https://twitter.com/PamelaGeller/status/763738618573623297\n",
      "https://twitter.com/NerdyWonka/status/500363126294863876\n",
      "https://twitter.com/nobodyspendeja/status/516313006427602944\n",
      "https://twitter.com/HuffPostUKBlogs/status/489798752438583297\n",
      "https://twitter.com/edzitron/status/567596847330373632\n",
      "https://twitter.com/WesleyLowery/status/538851683141304320\n",
      "https://twitter.com/KristenKallhovd/status/728101712762834944\n",
      "https://twitter.com/AnneBayefsky/status/521882110789824512\n",
      "https://twitter.com/jessicawluther/status/500281094239817728\n",
      "https://twitter.com/KeeganNYC/status/538346377794031618\n",
      "https://twitter.com/BklynMiddleton/status/531131094276382720\n",
      "https://twitter.com/shar__dae/status/505369323922522113\n",
      "https://twitter.com/DianaNBC5/status/500280838710247424\n",
      "https://twitter.com/Breaking911/status/525411618231169025\n",
      "https://twitter.com/Cernovich/status/744390771869102080\n",
      "https://twitter.com/JBCrewposts/status/496698590153416704\n",
      "https://twitter.com/cthagod/status/521790189715615744\n",
      "https://twitter.com/fart/status/536738726693847041\n",
      "https://twitter.com/burg21/status/357300409292959744\n",
      "https://twitter.com/coolbathroom/status/504771233557147648\n",
      "https://twitter.com/Khanoisseur/status/766808183696351233\n",
      "https://twitter.com/andersostlund/status/576829262927413248\n",
      "https://twitter.com/JustinGlawe/status/500295393301647360\n",
      "https://twitter.com/dave_schilling/status/407275991610818560\n",
      "https://twitter.com/ManVideo4912/status/524970851675176960\n",
      "https://twitter.com/highsnobiety/status/524317344730869760\n",
      "https://twitter.com/Lil_Eazy_Ana_42/status/91728807081426944\n",
      "https://twitter.com/EWErickson/status/348204426659508226\n",
      "https://twitter.com/ACTforAmerica/status/560187970389819392\n",
      "https://twitter.com/edsbs/status/519868410599993344\n",
      "https://twitter.com/AmyMek/status/516804849619705859\n",
      "https://twitter.com/dbongino/status/707308274270539777\n",
      "https://twitter.com/ezraklein/status/387309869080281088\n",
      "https://twitter.com/shaunking/status/716451800581279744\n",
      "https://twitter.com/PalmerReport/status/766789709045518336\n",
      "https://twitter.com/patrickklepek/status/509463933564891137\n",
      "https://twitter.com/margarita/status/523939598691741696\n",
      "https://twitter.com/mattyglesias/status/516395112201736192\n",
      "https://twitter.com/PositronicWoman/status/724661834419048448\n",
      "https://twitter.com/FucoidanForce/status/522553662996901888\n",
      "https://twitter.com/BradThor/status/714811995573325828\n",
      "https://twitter.com/conncarroll/status/528240834660298753\n"
     ]
    }
   ],
   "source": [
    "for user in user_list:\n",
    "    print(\"https://twitter.com/\" + user.screen_name + \"/status/\" + source_cannot_crawl_dict[str(user.id)])"
   ]
  },
  {
   "cell_type": "code",
   "execution_count": 44,
   "metadata": {},
   "outputs": [
    {
     "data": {
      "text/plain": [
       "'524646141938647043'"
      ]
     },
     "execution_count": 44,
     "metadata": {},
     "output_type": "execute_result"
    }
   ],
   "source": [
    "source_cannot_crawl_dict['331311644']"
   ]
  },
  {
   "cell_type": "code",
   "execution_count": null,
   "metadata": {},
   "outputs": [],
   "source": []
  }
 ],
 "metadata": {
  "kernelspec": {
   "display_name": "Python 3",
   "language": "python",
   "name": "python3"
  },
  "language_info": {
   "codemirror_mode": {
    "name": "ipython",
    "version": 3
   },
   "file_extension": ".py",
   "mimetype": "text/x-python",
   "name": "python",
   "nbconvert_exporter": "python",
   "pygments_lexer": "ipython3",
   "version": "3.7.1"
  }
 },
 "nbformat": 4,
 "nbformat_minor": 2
}
