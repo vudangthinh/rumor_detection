{
 "cells": [
  {
   "cell_type": "code",
   "execution_count": 4,
   "metadata": {},
   "outputs": [],
   "source": [
    "import pandas as pd\n",
    "from collections import Counter"
   ]
  },
  {
   "cell_type": "markdown",
   "metadata": {},
   "source": [
    "### Handle out of vocabulary words"
   ]
  },
  {
   "cell_type": "code",
   "execution_count": 1,
   "metadata": {},
   "outputs": [],
   "source": [
    "token_list = []\n",
    "with open('../data/external/oov_file.txt', 'r') as file:\n",
    "    for line in file:\n",
    "        token_list.append(line.strip())"
   ]
  },
  {
   "cell_type": "code",
   "execution_count": 6,
   "metadata": {},
   "outputs": [],
   "source": [
    "token_series = pd.Series(token_list)"
   ]
  },
  {
   "cell_type": "code",
   "execution_count": 7,
   "metadata": {},
   "outputs": [
    {
     "data": {
      "text/plain": [
       "germanwings       378\n",
       "4u9525            125\n",
       "a320              106\n",
       "9                  40\n",
       "dammartin          36\n",
       "goele              29\n",
       "charb              29\n",
       "zehaf              28\n",
       "bibeau             28\n",
       "lubitz             24\n",
       "kunstmuseum        22\n",
       "merabet            21\n",
       "wolinski           15\n",
       "kouachi            12\n",
       "tignous            11\n",
       "charbonnier         9\n",
       "1st                 9\n",
       "3rd                 9\n",
       "nmos14              9\n",
       "lakemba             8\n",
       "uderzo              8\n",
       "путинумер           8\n",
       "kabayeva            8\n",
       "5sos                8\n",
       "bequeathed          7\n",
       "4u                  7\n",
       "kabaeva             7\n",
       "nemtsov             7\n",
       "7                   6\n",
       "flightradar24       6\n",
       "                 ... \n",
       "1500m               1\n",
       "no1                 1\n",
       "6crew               1\n",
       "fl068               1\n",
       "dhimmified          1\n",
       "cuddington          1\n",
       "trespassig          1\n",
       "monier              1\n",
       "impartially         1\n",
       "méolans             1\n",
       "princetoronto       1\n",
       "empathizing         1\n",
       "gaekwad             1\n",
       "148passengers       1\n",
       "radioed             1\n",
       "10a                 1\n",
       "_now_               1\n",
       "netralized          1\n",
       "launhed             1\n",
       "cartoonophobia      1\n",
       "flightpath          1\n",
       "bordeleau           1\n",
       "fidain              1\n",
       "3eg                 1\n",
       "loted               1\n",
       "fl380               1\n",
       "bullsh1t            1\n",
       "gunowners           1\n",
       "gamergate           1\n",
       "lanaguage           1\n",
       "Length: 419, dtype: int64"
      ]
     },
     "execution_count": 7,
     "metadata": {},
     "output_type": "execute_result"
    }
   ],
   "source": [
    "token_series.value_counts()"
   ]
  },
  {
   "cell_type": "markdown",
   "metadata": {},
   "source": [
    "Not too many oov words -> word embedding is ok"
   ]
  },
  {
   "cell_type": "code",
   "execution_count": null,
   "metadata": {},
   "outputs": [],
   "source": []
  }
 ],
 "metadata": {
  "kernelspec": {
   "display_name": "Python 3",
   "language": "python",
   "name": "python3"
  },
  "language_info": {
   "codemirror_mode": {
    "name": "ipython",
    "version": 3
   },
   "file_extension": ".py",
   "mimetype": "text/x-python",
   "name": "python",
   "nbconvert_exporter": "python",
   "pygments_lexer": "ipython3",
   "version": "3.7.1"
  }
 },
 "nbformat": 4,
 "nbformat_minor": 2
}
