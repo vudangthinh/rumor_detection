{
 "cells": [
  {
   "cell_type": "code",
   "execution_count": 1,
   "metadata": {},
   "outputs": [],
   "source": [
    "import tweepy\n",
    "from pprint import pprint"
   ]
  },
  {
   "cell_type": "code",
   "execution_count": 2,
   "metadata": {},
   "outputs": [],
   "source": [
    "consumer_key = '9TvVKS8HRroMN4wQtBdzNA'\n",
    "consumer_secret = 'BrmSzXi4sGzDiRdj7kbPHMRLQNMkbpHeDqtLhWPhU'\n",
    "access_token = '1287392767-m7gcpy3wkpNpvMpywC9wwBTzIivWVXvLabhZMlA'\n",
    "access_token_secret = 'RHNCzFoLOpUHZhLQu7mDkJGsgtA3xtpKm35596ZfuRY'"
   ]
  },
  {
   "cell_type": "code",
   "execution_count": 3,
   "metadata": {},
   "outputs": [],
   "source": [
    "auth = tweepy.OAuthHandler(consumer_key, consumer_secret)\n",
    "auth.set_access_token(access_token, access_token_secret)\n",
    "\n",
    "api = tweepy.API(auth, wait_on_rate_limit=True, wait_on_rate_limit_notify=True)"
   ]
  },
  {
   "cell_type": "code",
   "execution_count": 4,
   "metadata": {},
   "outputs": [
    {
     "data": {
      "text/plain": [
       "'A photo of black nurses saving the life of a KKK member. http://t.co/dtLAKFrb8w'"
      ]
     },
     "execution_count": 4,
     "metadata": {},
     "output_type": "execute_result"
    }
   ],
   "source": [
    "status_list = api.statuses_lookup([319166636902998016])\n",
    "status_list[0].text"
   ]
  },
  {
   "cell_type": "code",
   "execution_count": 5,
   "metadata": {},
   "outputs": [
    {
     "ename": "IndexError",
     "evalue": "list index out of range",
     "output_type": "error",
     "traceback": [
      "\u001b[0;31m---------------------------------------------------------------------------\u001b[0m",
      "\u001b[0;31mIndexError\u001b[0m                                Traceback (most recent call last)",
      "\u001b[0;32m<ipython-input-5-95fd47c4eacd>\u001b[0m in \u001b[0;36m<module>\u001b[0;34m\u001b[0m\n\u001b[1;32m      1\u001b[0m \u001b[0mstatus_list\u001b[0m \u001b[0;34m=\u001b[0m \u001b[0mapi\u001b[0m\u001b[0;34m.\u001b[0m\u001b[0mstatuses_lookup\u001b[0m\u001b[0;34m(\u001b[0m\u001b[0;34m[\u001b[0m\u001b[0;36m342707732656308224\u001b[0m\u001b[0;34m]\u001b[0m\u001b[0;34m)\u001b[0m\u001b[0;34m\u001b[0m\u001b[0;34m\u001b[0m\u001b[0m\n\u001b[0;32m----> 2\u001b[0;31m \u001b[0mstatus_obj_0\u001b[0m \u001b[0;34m=\u001b[0m \u001b[0mstatus_list\u001b[0m\u001b[0;34m[\u001b[0m\u001b[0;36m0\u001b[0m\u001b[0;34m]\u001b[0m\u001b[0;34m\u001b[0m\u001b[0;34m\u001b[0m\u001b[0m\n\u001b[0m\u001b[1;32m      3\u001b[0m \u001b[0mpprint\u001b[0m\u001b[0;34m(\u001b[0m\u001b[0mstatus_obj_0\u001b[0m\u001b[0;34m.\u001b[0m\u001b[0mtext\u001b[0m\u001b[0;34m)\u001b[0m\u001b[0;34m\u001b[0m\u001b[0;34m\u001b[0m\u001b[0m\n\u001b[1;32m      4\u001b[0m \u001b[0mprint\u001b[0m\u001b[0;34m(\u001b[0m\u001b[0;34m)\u001b[0m\u001b[0;34m\u001b[0m\u001b[0;34m\u001b[0m\u001b[0m\n\u001b[1;32m      5\u001b[0m \u001b[0mpprint\u001b[0m\u001b[0;34m(\u001b[0m\u001b[0mstatus_obj_0\u001b[0m\u001b[0;34m.\u001b[0m\u001b[0mentities\u001b[0m\u001b[0;34m)\u001b[0m\u001b[0;34m\u001b[0m\u001b[0;34m\u001b[0m\u001b[0m\n",
      "\u001b[0;31mIndexError\u001b[0m: list index out of range"
     ]
    }
   ],
   "source": [
    "status_list = api.statuses_lookup([342707732656308224])\n",
    "status_obj_0 = status_list[0]\n",
    "pprint(status_obj_0.text)\n",
    "print()\n",
    "pprint(status_obj_0.entities)"
   ]
  },
  {
   "cell_type": "code",
   "execution_count": 6,
   "metadata": {
    "scrolled": false
   },
   "outputs": [
    {
     "data": {
      "text/plain": [
       "'Some people call me Alonso'"
      ]
     },
     "execution_count": 6,
     "metadata": {},
     "output_type": "execute_result"
    }
   ],
   "source": [
    "user_list = api.lookup_users([217466020])\n",
    "# pprint(vars(user_list[0]))\n",
    "user_list[0]._json['name']"
   ]
  },
  {
   "cell_type": "code",
   "execution_count": null,
   "metadata": {
    "scrolled": false
   },
   "outputs": [
    {
     "name": "stdout",
     "output_type": "stream",
     "text": [
      "Rarest Facts ™\n",
      "John Henry Jr.\n",
      "ALEXA GRECO\n",
      "Abe\n",
      "paige chastain\n",
      "Michael Fraley\n",
      "SnoozieMcSnoozington\n",
      "scott\n",
      "J. Anne\n",
      "#FRVNCIS\n",
      "Andrew Kocher\n",
      "Hayley Carr ✌️\n",
      ".\n",
      "Tasnim\n",
      "§tephen Acciardi\n",
      "Philip Reed\n",
      "Wifey Type ☼\n",
      "Taylor❣\n",
      "Eric Anderson\n",
      "Whorge\n",
      "B_Stoud\n",
      "Sam Bertolino\n",
      "Ben Nicastro\n",
      "Jas👽\n",
      "Gabe Medellin\n",
      "Orebrotaxi Örebro Taxi\n",
      "Chase Scanlon\n",
      "Dean Brown\n",
      "ß\n",
      "fábio ayres\n",
      "Boomer jr.\n",
      "Echo2310 Male\n",
      "Miguel Z\n",
      "Sable Liu\n",
      "Amant du roi\n",
      "missnikkibabbyy\n",
      "Bobby Casey\n",
      "Charlotte Brianne\n",
      "Mitch Russo\n",
      "Tselane' brown\n",
      "Harriet Potter\n",
      "Killa🥀\n",
      "AE\n",
      "Thandolwethu Cele\n",
      "Refried Brains\n",
      "♥.♥\n",
      "Lovely Rodain\n",
      "Georgio Lashley\n",
      "Jessica Beckingham\n",
      "Austin Wood\n",
      "Kevin Recsnik\n",
      "Angel\n",
      "ELOC\n",
      "47\n",
      "Erica Diaz\n",
      "Totalitarian Thomas\n",
      "InhaleLife\n",
      "yaboicm\n",
      "𝒴.//\n",
      "ceeejaay⚽\n",
      "♤\n",
      "error\n",
      "Luke\n",
      "MCMXCIV\n",
      "Bri Lew.\n",
      "Niquelican🐘\n",
      "😀\n",
      "معتصم العطية\n",
      "Chris Po\n",
      "🕷\n",
      "Richard\n",
      "laurissa\n",
      "Bobby Brown\n",
      "Terror Bobby\n",
      "error\n",
      "Michael Knight\n",
      "Red Flower Out Now!\n",
      "Amber-Lola Spence\n",
      "BeezyCmp\n",
      "jungle cat juju\n",
      "error\n",
      "s. i. l. a. s.\n",
      "Audrey Carter\n",
      "Juston Patrick\n",
      "Garrett\n",
      "Kenny White\n",
      "quincy\n",
      "error\n",
      "Gonzito\n",
      "violet milicaj\n",
      "ROPER\n",
      "haaayley\n",
      "lexi kim\n",
      "Ashley Cline\n",
      "J\n",
      "j.\n",
      "Gabrielle\n",
      "Nick Bright\n",
      "amanda⛈\n",
      "Conjizzle 😜\n",
      "P.Fant\n",
      "Chris\n",
      "error\n",
      "Migs🤙🏾\n",
      "Rachel\n",
      "Carlito\n",
      "KT🌙\n",
      "Marissa Beane\n",
      "kay\n",
      "𝒞𝓇í𝓈𝓉à𝓁\n",
      "J ∆ Y\n",
      "Lesly Pineda\n",
      "Samantha Overcashier\n",
      "Matt\n",
      "Brianna Winters\n",
      "akhilleus\n"
     ]
    }
   ],
   "source": [
    "with open('/data/rumor_detection/data/rumor_acl/rumor_detection_acl2017/twitter15/tree/319166636902998016.txt', 'r') as file:\n",
    "    for line in file:\n",
    "        line_arr = line.strip().split('->')\n",
    "        part2 = line_arr[1][1:-1]\n",
    "        part2_arr = part2.split(', ')\n",
    "        user_id = part2_arr[0][1:-1]\n",
    "        tweet_id = part2_arr[1][1:-1]\n",
    "        \n",
    "        if tweet_id == '319166636902998016':\n",
    "            try:\n",
    "                user_list = api.lookup_users([user_id])\n",
    "                print(user_list[0]._json['name'])\n",
    "            except:\n",
    "                print('error')\n"
   ]
  },
  {
   "cell_type": "code",
   "execution_count": null,
   "metadata": {},
   "outputs": [],
   "source": []
  }
 ],
 "metadata": {
  "kernelspec": {
   "display_name": "Python 3",
   "language": "python",
   "name": "python3"
  },
  "language_info": {
   "codemirror_mode": {
    "name": "ipython",
    "version": 3
   },
   "file_extension": ".py",
   "mimetype": "text/x-python",
   "name": "python",
   "nbconvert_exporter": "python",
   "pygments_lexer": "ipython3",
   "version": "3.7.1"
  }
 },
 "nbformat": 4,
 "nbformat_minor": 2
}
