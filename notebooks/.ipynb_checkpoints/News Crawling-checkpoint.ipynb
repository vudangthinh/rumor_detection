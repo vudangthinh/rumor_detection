{
 "cells": [
  {
   "cell_type": "code",
   "execution_count": 25,
   "metadata": {},
   "outputs": [],
   "source": [
    "import json\n",
    "import requests\n",
    "from IPython.display import HTML\n",
    "from newspaper import Article\n",
    "from newsplease import NewsPlease"
   ]
  },
  {
   "cell_type": "raw",
   "metadata": {},
   "source": [
    "https://github.com/fhamborg/news-please\n",
    "https://github.com/codelucas/newspaper"
   ]
  },
  {
   "cell_type": "code",
   "execution_count": 78,
   "metadata": {},
   "outputs": [],
   "source": [
    "api_key = '1c4a5c565d124ede8b9b6763b1d4fe68'\n",
    "api_url_base = 'https://newsapi.org/v2/everything?'"
   ]
  },
  {
   "cell_type": "code",
   "execution_count": 91,
   "metadata": {},
   "outputs": [],
   "source": [
    "response = requests.get(api_url_base, params={'q': 'iphone 11', 'from': '2019-10-20', 'to': '2019-10-20', 'language':'en', 'apiKey': api_key})"
   ]
  },
  {
   "cell_type": "code",
   "execution_count": 95,
   "metadata": {
    "scrolled": false
   },
   "outputs": [],
   "source": [
    "if response.status_code == 200:\n",
    "    result = response.json()\n",
    "else:\n",
    "    print(response.status_code)"
   ]
  },
  {
   "cell_type": "code",
   "execution_count": 97,
   "metadata": {},
   "outputs": [
    {
     "name": "stdout",
     "output_type": "stream",
     "text": [
      "totalResults: 17\n"
     ]
    }
   ],
   "source": [
    "print(\"totalResults:\", result['totalResults'])\n",
    "num_pages = result['totalResults']/20 + 1\n",
    "for i in range(1, num_pages):\n",
    "    "
   ]
  },
  {
   "cell_type": "code",
   "execution_count": 93,
   "metadata": {
    "scrolled": true
   },
   "outputs": [
    {
     "data": {
      "text/plain": [
       "{'status': 'ok',\n",
       " 'totalResults': 17,\n",
       " 'articles': [{'source': {'id': 'mashable', 'name': 'Mashable'},\n",
       "   'author': 'Dylan Haas',\n",
       "   'title': \"23 everyday items for under $20 that you shouldn't live without\",\n",
       "   'description': 'We\\'re all guilty of buying things we don\\'t need. Do you really need finger puppets ? Absolutely, and they\\'re only $9, so why wouldn\\'t you smash that \"add to cart\" button? Knowing how much useless crap you\\'ve likely already splurged on, we decided to round up …',\n",
       "   'url': 'https://mashable.com/shopping/oct-20-cool-gadgets-everyday-items-on-sale/',\n",
       "   'urlToImage': 'https://mondrian.mashable.com/2019%252F10%252F20%252Ff6%252F4f0578b0a7404d77957c57791cda2c0b.73dc4.png%252F1200x630.png?signature=KmFHw6riwKZFVvhjMRPiJ4_DPsk=',\n",
       "   'publishedAt': '2019-10-20T09:00:00Z',\n",
       "   'content': 'We\\'re all guilty of buying things we don\\'t need. Do you really needfinger puppets? Absolutely, and they\\'re only $9, so why wouldn\\'t you smash that \"add to cart\" button?\\r\\nKnowing how much useless crap you\\'ve likely already splurged on, we decided to round up s… [+4319 chars]'},\n",
       "  {'source': {'id': None, 'name': 'Cnet.com'},\n",
       "   'author': 'Alison DeNisco Rayome',\n",
       "   'title': 'Pixel 4 and 4 XL specs vs. iPhone 11, Galaxy S10E and OnePlus 7T - CNET',\n",
       "   'description': \"We pit Google's new Pixel phones against their top Android and Apple competitors.\",\n",
       "   'url': 'https://www.cnet.com/news/pixel-4-and-4-xl-specs-vs-iphone-11-galaxy-s10e-and-oneplus-7t/',\n",
       "   'urlToImage': 'https://cnet4.cbsistatic.com/img/B4ydrNngeesLVN2lxwP66Mf72E4=/756x567/2019/10/14/c667c611-5c69-4902-9576-edcca0ab21c1/google-pixel-4-1066.jpg',\n",
       "   'publishedAt': '2019-10-20T08:30:01Z',\n",
       "   'content': 'The Pixel 4 and Pixel 4 XL smartphones are looking at you.\\xa0\\r\\nAngela Lang/CNET\\r\\nGoogle on Tuesday unveiled its latest smartphones, the Pixel 4 and Pixel 4 XL, at its Made by Google event\\xa0in New York. The phones feature face unlock and motion sensors, a 90Hz OL… [+6088 chars]'},\n",
       "  {'source': {'id': None, 'name': 'Forbes.com'},\n",
       "   'author': 'Ewan Spence, Contributor, Ewan Spence, Contributor https://www.forbes.com/sites/ewanspence/',\n",
       "   'title': \"Apple's MacBook Pro Is Dead, Long Live Apple's MacBook Pro\",\n",
       "   'description': 'Once upon a time, Apple asked you to “Think Different”… That time is now consigned to the history books. That MacBook Pro is dead. It’s Tim Cook’s rodeo now, and there’s a new flavor in town.',\n",
       "   'url': 'https://www.forbes.com/sites/ewanspence/2019/10/19/apple-macbook-pro-dead-steve-jobs-tim-cook-replaced-iphone-icloud-macos-ios-success/',\n",
       "   'urlToImage': 'https://thumbor.forbes.com/thumbor/600x315/https%3A%2F%2Fspecials-images.forbesimg.com%2Fdam%2Fimageserve%2F96f0e398179c4a769352c5a5e33a943c%2F960x0.jpg%3Ffit%3Dscale',\n",
       "   'publishedAt': '2019-10-20T01:02:00Z',\n",
       "   'content': 'Once upon a time, Apple asked you to Think Different Once upon a time, Apple supported untold unique voices with different ways to use its personal computer Once upon a time Apple launched one of the most influential laptops of all time in the MacBook Pro.Tha… [+13018 chars]'},\n",
       "  {'source': {'id': None, 'name': 'Thegadgetflow.com'},\n",
       "   'author': 'The Gadget Flow Editors',\n",
       "   'title': 'Nomad Rugged Folio Horween Leather iPhone 11 Pro Max Case offers all-angle drop protection',\n",
       "   'description': 'The Nomad Rugged Folio Horween Leather iPhone 11 Pro Max Case is multifunctional. It’s a durable case in its own right, as it provides protection from drops at any angle. Its polycarbonate body has raised TPE edges that provide an extra bumper against the out…',\n",
       "   'url': 'https://thegadgetflow.com/portfolio/horween-leather-iphone-11-pro-max-case/',\n",
       "   'urlToImage': 'https://thegadgetflow.com/wp-content/uploads/2019/10/Nomad-Rugged-Folio-Horween-Leather-iPhone-11-Pro-Max-Case-01.jpg',\n",
       "   'publishedAt': '2019-10-20T05:00:57Z',\n",
       "   'content': None},\n",
       "  {'source': {'id': None, 'name': 'Hotukdeals.com'},\n",
       "   'author': None,\n",
       "   'title': '108° - Arnold Schwarzenegger Commando silicone soft phone case for Apple iphone 11 Pro Max',\n",
       "   'description': '£1.72 - AliExpress Brand Name: zojanena Type: Half-wrapped Case Retail Package: No Design: Exotic Design: Matte Design: Patterned',\n",
       "   'url': 'https://www.hotukdeals.com/deals/arnold-schwarzenegger-commando-silicone-soft-phone-case-for-apple-iphone-11-pro-max-3312071',\n",
       "   'urlToImage': None,\n",
       "   'publishedAt': '2019-10-20T06:22:06Z',\n",
       "   'content': None},\n",
       "  {'source': {'id': None, 'name': 'Vipsister23.com'},\n",
       "   'author': 'kotatatata',\n",
       "   'title': '【動画】中国でキレッキレのお婆さんが発見されるｗｗｗｗ',\n",
       "   'description': '1: チョキちゃん(茸) [US] 2019/10/20(日) 00:24:17.01 ID:gzoYnYUv0● BE:479913954-2BP(2931).net 【動画】 https://video.twimg.com/ext_tw_video/1185571612340314112/pu/vid/720x1280/-riTcNLCg43fAnq5.mp4 37: スカーラ(神奈川県) [US] 2019/10/20(日) 01:16:08.6...',\n",
       "   'url': 'http://vipsister23.com/archives/9494423.html',\n",
       "   'urlToImage': 'https://livedoor.blogimg.jp/vipsister23/imgs/c/0/c0a12559.jpg',\n",
       "   'publishedAt': '2019-10-20T07:00:09Z',\n",
       "   'content': '1: () [US] 2019/10/20() 00:24:17.01 ID:gzoYnYUv0 BE:479913954-2BP(2931).net\\r\\n37: () [US] 2019/10/20() 01:16:08.69 ID:3sScsKFM0.net\\r\\n2: () [JP] 2019/10/20() 00:26:59.08 ID:6xRoTixp0.net\\r\\n5: () [IE] 2019/10/20() 00:29:10.85 ID:Nv8m0e5r0.net\\r\\n7: () [IT] 2019/10/… [+1096 chars]'},\n",
       "  {'source': {'id': None, 'name': 'Cbsileads.com'},\n",
       "   'author': None,\n",
       "   'title': 'iPhone 11 Charger, ESR USB C to Lightning Cable, [6.6ft MFi-Certified], Braided Nylon Power Delivery Fast Charging for iPhone 11/11 Pro/11 Pro Max/XR/XS Max/XS/X/8, for Use with Type-C Chargers, Black',\n",
       "   'description': 'iPhone 11 Charger, ESR USB C to Lightning Cable, [6.6ft MFi-Certified], Braided Nylon Power Delivery Fast Charging for iPhone 11/11 Pro/11 Pro Max/XR/XS Max/XS/X/8, for Use with Type-C Chargers, Black',\n",
       "   'url': 'https://cbslnk.cbsileads.com/redir?assetguid=e59c68e3-cdda-407f-8225-a4a6abfda101&contype=deal&destUrl=https%3A%2F%2Fwww.amazon.com%2FESR-Lightning-MFi-Certified-Delivery-Charging%2Fdp%2FB07N2PJ5BX%3Ftag%3Dcnet-gbdeals-20%26linkCode%3Ddf5&leadcpc=0.25&ltype=deal&merid=300346&pagetype=deals-feed&rsid=cbsicnetglobalsite&prodtitle=iPhone+11+Charger%2C+ESR+USB+C+to+Lightning+Cable%2C+%5B6.6ft+MFi-Certified%5D%2C+Braided+Nylon+Power+Delivery+Fast+Charging+for+iPhone+11%2F11+Pro%2F11+Pro+Max%2FXR%2FXS+Max%2FXS%2FX%2F8%2C+for+Use+with+Type-C+Chargers%2C+Black&ttag=usdealsamazongblightningdealrss&utm_source=feedburner&utm_medium=feed&utm_campaign=Feed%3A+cnet%2FbHsM+%28Shopper+Deals+%26+Bargains%29',\n",
       "   'urlToImage': None,\n",
       "   'publishedAt': '2019-10-20T07:25:03Z',\n",
       "   'content': \"Connecting you to your offer...\\r\\nIf you don't arrive in a few seconds, please click here.\"},\n",
       "  {'source': {'id': None, 'name': 'Worldsoccertalk.com'},\n",
       "   'author': 'Alex Muller',\n",
       "   'title': 'Where to find Man United vs. Liverpool on US TV and streaming',\n",
       "   'description': 'If you’re trying to find out how you can watch Man United vs. Liverpool on US TV in the Premier League, you’ve come to the right place. For viewers in the US, Man United vs....',\n",
       "   'url': 'https://worldsoccertalk.com/2019/10/19/find-man-united-vs-liverpool-us-tv-streaming-4/',\n",
       "   'urlToImage': 'https://worldsoccertalk.com/wp-content/uploads/2019/10/man-united-liverpool-tv.jpg',\n",
       "   'publishedAt': '2019-10-20T01:30:22Z',\n",
       "   'content': 'If you’re trying to find out how you can watch Man United vs. Liverpool on US TV in the Premier League, you’ve come to the right place.\\r\\nFor viewers in the US, Man United vs. Liverpool will be shown on TV and streaming (more details below).\\r\\nHere are all of t… [+2270 chars]'},\n",
       "  {'source': {'id': None, 'name': 'Slickdeals.net'},\n",
       "   'author': 'WiseScent489',\n",
       "   'title': 'Deals on iphone 11 and iphone 8',\n",
       "   'description': 'Hello, i am looking for deals on iphone 11 64GB unlocked phones. Those can’t be in contact with any carrier as i will be taking them to my home country(November 1st week)  as a gifts for my family.  ...',\n",
       "   'url': 'https://slickdeals.net/f/13469047-deals-on-iphone-11-and-iphone-8',\n",
       "   'urlToImage': 'https://slickdeals.net/images/avatar/sd/new/sd-facebook-5-2.png',\n",
       "   'publishedAt': '2019-10-20T05:58:42Z',\n",
       "   'content': \"Hello, i am looking for deals on iphone 11 64GB unlocked phones. Those can't be in contact with any carrier as i will be taking them to my home country(November 1st week) as a gifts for my family. I am going to purchase two iphone 11 phones and one iphone 8. … [+101 chars]\"},\n",
       "  {'source': {'id': None, 'name': 'Slickdeals.net'},\n",
       "   'author': 'f12_26',\n",
       "   'title': 'Xtremeguard Anti-Shock Phone Cases for iphone 7/8/7+/8+/X/XS/XR/XS Max/11/11 Pro/11 Pro Max - $3.60',\n",
       "   'description': 'Xtremeguard has a few Anti-Shock Phone Cases for iphone 7/8/7+/8+/X/XS/XR/XS Max/11/11 Pro/11 Pro Max at $3.60 \\n \\nUse code #STRONGER_EVERY_DAY \\n \\nAvailable in Silver, Dark Grey or Black \\n \\nPRODUCT DES ...',\n",
       "   'url': 'https://slickdeals.net/f/13468546-xtremeguard-anti-shock-phone-cases-for-iphone-7-8-7-8-x-xs-xr-xs-max-11-11-pro-11-pro-max-3-60',\n",
       "   'urlToImage': 'https://static.slickdealscdn.com/attachment/3/4/2/9/3/0/8/8470528.attach',\n",
       "   'publishedAt': '2019-10-20T00:49:10Z',\n",
       "   'content': 'Xtremeguard[xtremeguard.com] has a few Anti-Shock Phone Cases for iphone 7/8/7+/8+/X/XS/XR/XS Max/11/11 Pro/11 Pro Max at $3.60Use code #STRONGER_EVERY_DAY\\r\\nAvailable in Silver, Dark Grey or Black\\r\\nPRODUCT DESCRIPTION\\r\\n<ul><li>A STRONG, durable and long-lasti… [+708 chars]'},\n",
       "  {'source': {'id': None, 'name': 'Wccftech.com'},\n",
       "   'author': 'Imran Hussain',\n",
       "   'title': 'iPhone 11 users reporting Ultra Wideband Update Failed error',\n",
       "   'description': 'Some iPhone 11 and iPhone 11 Pro users have been reporting an ‘Ultra Wideband Update Failed’ error, after updating to iOS 13.1.3 and iOS 13.2 beta 3. This impacts the iPhone’s capability to send files via AirDrop because it uses the new U1 ultra-wideband chip…',\n",
       "   'url': 'https://wccftech.com/iphone-11-users-reporting-ultra-wideband-update-failed-error/',\n",
       "   'urlToImage': 'https://cdn.wccftech.com/wp-content/uploads/2019/10/Ultra-wideband-update-failed-iPhone-11-Pro.jpeg',\n",
       "   'publishedAt': '2019-10-20T08:54:21Z',\n",
       "   'content': 'Some iPhone 11 and iPhone 11 Pro users have been reporting an Ultra Wideband Update Failed error, after updating to iOS 13.1.3 and iOS 13.2 beta 3. This impacts the iPhones capability to send files via AirDrop because it uses the new U1\\xa0ultra-wideband chip. T… [+2271 chars]'},\n",
       "  {'source': {'id': None, 'name': 'Vnexpress.net'},\n",
       "   'author': None,\n",
       "   'title': 'Secondhand iPhone market heats up as iPhone 11 arrives - VnExpress International',\n",
       "   'description': 'Listings of older iPhone models have increased in Vietnam after Apple released its latest iPhone 11 last month, with buyers expecting lower prices.',\n",
       "   'url': 'https://e.vnexpress.net/news/business/economy/secondhand-iphone-market-heats-up-as-iphone-11-arrives-3999351.html',\n",
       "   'urlToImage': 'https://vcdn-english.vnecdn.net/2019/10/19/20181026MG811715405674051200-1-3350-1554-1571460133_1200x0.jpg',\n",
       "   'publishedAt': '2019-10-20T00:33:16Z',\n",
       "   'content': 'The number of iPhone XS Max listings on popular trading site Chotot.com as of Friday had increased by 21 percent compared to before the arrival of the first iPhone 11 models to Vietnam a month ago.\\r\\nAmong 20,000 phone listings on the website, which allows use… [+1213 chars]'},\n",
       "  {'source': {'id': None, 'name': 'Ndtv.com'},\n",
       "   'author': None,\n",
       "   'title': 'Redmi Note 8 Pro, Realme X2, Google Pixel 4, and More Tech News This Week',\n",
       "   'description': 'Redmi Note 8 Pro price in India starts at Rs. 14,999. 6GB RAM/ 128GB storage is priced at Rs. 15,999, while 8GB RAM/ 128GB storage variant price in India is Rs. 17,999.',\n",
       "   'url': 'https://gadgets.ndtv.com/mobiles/features/redmi-note-8-pro-price-in-india-realme-x2-pro-amazon-flipkart-sale-offers-specifications-pixel-4-2119768',\n",
       "   'urlToImage': 'https://i.gadgets360cdn.com/large/redmi_note_8_pro_image_gadgets_360_1571208149553.jpg',\n",
       "   'publishedAt': '2019-10-20T07:14:15Z',\n",
       "   'content': \"Redmi Note 8 Pro and Redmi Note 8 were launched in India this week, the latest models in the Xiaomi's extremely popular Redmi Note series of smartphones. Apart from this, Xiaomi also revealed the schedule for the rollout of MIUI 11 Global Stable ROM updates f… [+13045 chars]\"},\n",
       "  {'source': {'id': None, 'name': 'Express.co.uk'},\n",
       "   'author': 'Joseph Carey',\n",
       "   'title': 'Google Pixel 4 has already been eclipsed by Apple’s iPhone 11',\n",
       "   'description': 'GOOGLE Pixel 4 hasn’t even released yet, but it has already been eclipsed by Apple’s iPhone 11. Here’s why…',\n",
       "   'url': 'https://www.express.co.uk/life-style/science-technology/1192421/Google-Pixel-4-face-unlock-system-not-secure',\n",
       "   'urlToImage': 'https://cdn.images.express.co.uk/img/dynamic/59/750x445/1192421.jpg',\n",
       "   'publishedAt': '2019-10-20T06:11:02Z',\n",
       "   'content': None},\n",
       "  {'source': {'id': None, 'name': 'Independent.ie'},\n",
       "   'author': 'Adrian Weckler',\n",
       "   'title': '5G network ready for speedy start - if you have the right phone',\n",
       "   'description': 'Mobile network provider Eir is to switch on its mobile 5G network next week.',\n",
       "   'url': 'https://www.independent.ie/business/technology/5g-network-ready-for-speedy-start-if-you-have-the-right-phone-38612464.html',\n",
       "   'urlToImage': 'https://www.independent.ie/incoming/article38612335.ece/ALTERNATES/h342/ED3_S01-Read-Only%204.jpg',\n",
       "   'publishedAt': '2019-10-20T06:00:00Z',\n",
       "   'content': 'The ultra-fast mobile service will initially be available in cities, with a more general rollout across the country to follow over the next two years.The main difference between 5G and 4G is speed, with 5G coverage able to download large files almost instantl… [+3297 chars]'},\n",
       "  {'source': {'id': None, 'name': 'Timesofmalta.com'},\n",
       "   'author': None,\n",
       "   'title': 'The writer who builds worlds and histories',\n",
       "   'description': 'Malta-born Jon Courtenay Grimwood, who also writes using two other pseudonyms, is on this year’s list of guest authors for the upcoming Malta Book Festival. He chats to Ramona Depares about spy novels, Valletta and juggling three different literary personas.\\n…',\n",
       "   'url': 'https://timesofmalta.com/articles/view/the-writer-who-builds-worlds-and-histories.743256',\n",
       "   'urlToImage': 'https://cdn-attachments.timesofmalta.com/562346440818e19f80e9b33f8d6d255d9a6295fd-1571474619-5daaccbb-1200x630.jpg',\n",
       "   'publishedAt': '2019-10-20T08:55:00Z',\n",
       "   'content': 'Malta-born Jon Courtenay Grimwood, who also writes using two other pseudonyms, is on this year’s list of guest authors for the upcoming Malta Book Festival. He chats to Ramona Depares about spy novels, Valletta and juggling three different literary personas.\\r… [+10494 chars]'},\n",
       "  {'source': {'id': None, 'name': 'Independent.ie'},\n",
       "   'author': 'Adrian Weckler',\n",
       "   'title': \"Adrian Weckler: 'GoMo rips mobile market apart'\",\n",
       "   'description': \"This column doesn't (and will never) shy away from criticising Eir when it deserves it. But last week, the company launched the most interesting, most disruptive telecoms service of the year. Eir's GoMo mobile operator rips rivals to shreds. That includes its…\",\n",
       "   'url': 'https://www.independent.ie/business/technology/adrian-weckler-gomo-rips-mobile-market-apart-38611832.html',\n",
       "   'urlToImage': 'https://www.independent.ie/business/technology/article38611831.ece/ALTERNATES/h342/2019-10-20_bus_54235227_I1.JPG',\n",
       "   'publishedAt': '2019-10-20T06:00:00Z',\n",
       "   'content': \"It gives its users a whopping 80GB of data, and all calls and texts, for 10 a month. Nothing else in the Irish market comes remotely close to this.\\r\\nIt sounds like a gimmick or that it has a major catch.\\r\\nBut on the product itself, I can't find any (there may… [+5101 chars]\"}]}"
      ]
     },
     "execution_count": 93,
     "metadata": {},
     "output_type": "execute_result"
    }
   ],
   "source": [
    "result"
   ]
  },
  {
   "cell_type": "code",
   "execution_count": 63,
   "metadata": {},
   "outputs": [
    {
     "name": "stdout",
     "output_type": "stream",
     "text": [
      "dict_keys(['authors', 'date_download', 'date_modify', 'date_publish', 'description', 'filename', 'image_url', 'language', 'localpath', 'title', 'title_page', 'title_rss', 'source_domain', 'text', 'url'])\n"
     ]
    }
   ],
   "source": [
    "newsplease = NewsPlease.from_url('https://lifehacker.com/just-how-fast-are-the-iphone-11-and-iphone-pro-1839164734')\n",
    "print(newsplease.__dict__.keys())"
   ]
  },
  {
   "cell_type": "code",
   "execution_count": 64,
   "metadata": {},
   "outputs": [
    {
     "name": "stdout",
     "output_type": "stream",
     "text": [
      "One of the boons of upgrading to the new iPhone every year is that the new one always feels so much faster. For most of us, it’s a nice feeling, and we leave it at that. The phone feels fast, then we get used to that speed, then the next one comes along and ... ooooh, that’s fast!\n"
     ]
    }
   ],
   "source": [
    "print(newsplease.description)"
   ]
  },
  {
   "cell_type": "code",
   "execution_count": 65,
   "metadata": {},
   "outputs": [
    {
     "name": "stdout",
     "output_type": "stream",
     "text": [
      "dict_keys(['config', 'extractor', 'source_url', 'url', 'title', 'top_img', 'top_image', 'meta_img', 'imgs', 'images', 'movies', 'text', 'keywords', 'meta_keywords', 'tags', 'authors', 'publish_date', 'summary', 'html', 'article_html', 'is_parsed', 'download_state', 'download_exception_msg', 'meta_description', 'meta_lang', 'meta_favicon', 'meta_data', 'canonical_link', 'top_node', 'clean_top_node', 'doc', 'clean_doc', 'additional_data', 'link_hash'])\n"
     ]
    }
   ],
   "source": [
    "url = 'https://lifehacker.com/just-how-fast-are-the-iphone-11-and-iphone-pro-1839164734'\n",
    "article = Article(url)\n",
    "article.download()\n",
    "article.parse()\n",
    "print(article.__dict__.keys())"
   ]
  },
  {
   "cell_type": "code",
   "execution_count": 66,
   "metadata": {
    "scrolled": true
   },
   "outputs": [
    {
     "name": "stdout",
     "output_type": "stream",
     "text": [
      "One of the boons of upgrading to the new iPhone every year is that the new one always feels so much faster. For most of us, it’s a nice feeling, and we leave it at that. The phone feels fast, then we get used to that speed, then the next one comes along and ... ooooh, that’s fast!\n"
     ]
    }
   ],
   "source": [
    "print(article.meta_description)"
   ]
  },
  {
   "cell_type": "code",
   "execution_count": 41,
   "metadata": {
    "scrolled": true
   },
   "outputs": [
    {
     "name": "stdout",
     "output_type": "stream",
     "text": [
      "According to CNBC, Kuo suggested in an analyst note that the iPhone SE2 will retain the iPhone 8's 4.7-inch screen.\n",
      "Indeed, the iPhone SE2 is likely to be cheaper than the iPhone 11.\n",
      "To keep costs down, the iPhone SE2's cameras may not be as powerful as those found in the iPhone 11 lineup.\n",
      "\"Therefore, we estimate iPhone SE2 shipments in 2020 will reach 30–40 [million] units.\"\n",
      "Kuo's prediction adds further fuel to the iPhone SE2 rumors, as other analysts have made a similar forecast.\n"
     ]
    }
   ],
   "source": [
    "article.nlp()\n",
    "print(article.summary)"
   ]
  },
  {
   "cell_type": "code",
   "execution_count": null,
   "metadata": {},
   "outputs": [],
   "source": []
  }
 ],
 "metadata": {
  "kernelspec": {
   "display_name": "Python 3",
   "language": "python",
   "name": "python3"
  },
  "language_info": {
   "codemirror_mode": {
    "name": "ipython",
    "version": 3
   },
   "file_extension": ".py",
   "mimetype": "text/x-python",
   "name": "python",
   "nbconvert_exporter": "python",
   "pygments_lexer": "ipython3",
   "version": "3.7.1"
  }
 },
 "nbformat": 4,
 "nbformat_minor": 2
}
