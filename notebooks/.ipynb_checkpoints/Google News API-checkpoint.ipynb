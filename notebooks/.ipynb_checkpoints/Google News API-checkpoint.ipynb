{
 "cells": [
  {
   "cell_type": "code",
   "execution_count": 1,
   "metadata": {},
   "outputs": [],
   "source": [
    "import json\n",
    "import requests"
   ]
  },
  {
   "cell_type": "code",
   "execution_count": 9,
   "metadata": {},
   "outputs": [],
   "source": [
    "api_key = '1c4a5c565d124ede8b9b6763b1d4fe68'\n",
    "api_url_base = 'https://newsapi.org/v2/everything?'"
   ]
  },
  {
   "cell_type": "code",
   "execution_count": 17,
   "metadata": {},
   "outputs": [],
   "source": [
    "response = requests.get(api_url_base, params={'domains': 'wsj.com', 'apiKey': api_key})"
   ]
  },
  {
   "cell_type": "code",
   "execution_count": 25,
   "metadata": {
    "scrolled": false
   },
   "outputs": [
    {
     "name": "stdout",
     "output_type": "stream",
     "text": [
      "totalResults 780\n",
      "Federal prosecutors in Manhattan are examining Rudy Giulianis business dealings in Ukraine, including his finances, meetings and work for a city mayor there, according to people familiar with the matter.\r\n",
      "Investigators also have examined Giulianis bank record… [+893 chars]\n"
     ]
    }
   ],
   "source": [
    "if response.status_code == 200:\n",
    "    result = response.json()\n",
    "    print('totalResults', result['totalResults'])\n",
    "    print(result['articles'][2]['content'])\n",
    "else:\n",
    "    print(response.status_code)"
   ]
  },
  {
   "cell_type": "code",
   "execution_count": null,
   "metadata": {},
   "outputs": [],
   "source": []
  }
 ],
 "metadata": {
  "kernelspec": {
   "display_name": "Python 3",
   "language": "python",
   "name": "python3"
  },
  "language_info": {
   "codemirror_mode": {
    "name": "ipython",
    "version": 3
   },
   "file_extension": ".py",
   "mimetype": "text/x-python",
   "name": "python",
   "nbconvert_exporter": "python",
   "pygments_lexer": "ipython3",
   "version": "3.7.1"
  }
 },
 "nbformat": 4,
 "nbformat_minor": 2
}
