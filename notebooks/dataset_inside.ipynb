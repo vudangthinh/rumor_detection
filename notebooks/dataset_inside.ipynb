{
 "cells": [
  {
   "cell_type": "code",
   "execution_count": 4,
   "metadata": {},
   "outputs": [],
   "source": [
    "import pandas as pd\n",
    "import json"
   ]
  },
  {
   "cell_type": "markdown",
   "metadata": {},
   "source": [
    "### Rumor Eval 2019 Dataset"
   ]
  },
  {
   "cell_type": "code",
   "execution_count": 2,
   "metadata": {},
   "outputs": [],
   "source": [
    "rumor_eval_train = '/data/rumor_detection/data/rumour_eval_2019/rumoureval-2019-training-data/train-key.json'\n",
    "rumor_eval_dev = '/data/rumor_detection/data/rumour_eval_2019/rumoureval-2019-training-data/dev-key.json'"
   ]
  },
  {
   "cell_type": "code",
   "execution_count": 6,
   "metadata": {},
   "outputs": [],
   "source": [
    "train_file = open(rumor_eval_train)\n",
    "train_data = json.load(train_file)\n",
    "train_file.close()"
   ]
  },
  {
   "cell_type": "code",
   "execution_count": 14,
   "metadata": {},
   "outputs": [
    {
     "name": "stdout",
     "output_type": "stream",
     "text": [
      "Size of training data task A: 5217\n"
     ]
    }
   ],
   "source": [
    "print(\"Size of training data task A:\", len(train_data['subtaskaenglish']))"
   ]
  },
  {
   "cell_type": "code",
   "execution_count": 16,
   "metadata": {},
   "outputs": [
    {
     "name": "stdout",
     "output_type": "stream",
     "text": [
      "Size of training data task B: 327\n"
     ]
    }
   ],
   "source": [
    "print('Size of training data task B:', len(train_data['subtaskbenglish']))"
   ]
  },
  {
   "cell_type": "code",
   "execution_count": 17,
   "metadata": {},
   "outputs": [],
   "source": [
    "dev_file = open(rumor_eval_dev)\n",
    "dev_data = json.load(dev_file)\n",
    "dev_file.close()"
   ]
  },
  {
   "cell_type": "code",
   "execution_count": 19,
   "metadata": {},
   "outputs": [
    {
     "name": "stdout",
     "output_type": "stream",
     "text": [
      "Size of dev data task A: 1485\n",
      "Size of dev data task B: 38\n"
     ]
    }
   ],
   "source": [
    "print(\"Size of dev data task A:\", len(dev_data['subtaskaenglish']))\n",
    "print('Size of dev data task B:', len(dev_data['subtaskbenglish']))"
   ]
  },
  {
   "cell_type": "markdown",
   "metadata": {},
   "source": [
    "### PHEME Dataset"
   ]
  },
  {
   "cell_type": "code",
   "execution_count": 3,
   "metadata": {},
   "outputs": [
    {
     "ename": "ModuleNotFoundError",
     "evalue": "No module named '__main__.src'; '__main__' is not a package",
     "output_type": "error",
     "traceback": [
      "\u001b[0;31m---------------------------------------------------------------------------\u001b[0m",
      "\u001b[0;31mModuleNotFoundError\u001b[0m                       Traceback (most recent call last)",
      "\u001b[0;32m<ipython-input-3-186a72fd17c7>\u001b[0m in \u001b[0;36m<module>\u001b[0;34m\u001b[0m\n\u001b[0;32m----> 1\u001b[0;31m \u001b[0;32mfrom\u001b[0m \u001b[0;34m.\u001b[0m\u001b[0msrc\u001b[0m\u001b[0;34m.\u001b[0m\u001b[0mdata\u001b[0m \u001b[0;32mimport\u001b[0m \u001b[0mpheme_dataloader_baseline\u001b[0m\u001b[0;34m\u001b[0m\u001b[0;34m\u001b[0m\u001b[0m\n\u001b[0m",
      "\u001b[0;31mModuleNotFoundError\u001b[0m: No module named '__main__.src'; '__main__' is not a package"
     ]
    }
   ],
   "source": [
    "from src.data import pheme_dataloader_baseline"
   ]
  },
  {
   "cell_type": "markdown",
   "metadata": {},
   "source": [
    "### Zenodo"
   ]
  },
  {
   "cell_type": "code",
   "execution_count": 6,
   "metadata": {},
   "outputs": [],
   "source": [
    "df = pd.read_excel('/data/rumor_detection/data/zenodo/DATASET_R1.xlsx')"
   ]
  },
  {
   "cell_type": "code",
   "execution_count": 7,
   "metadata": {},
   "outputs": [
    {
     "data": {
      "text/html": [
       "<div>\n",
       "<style scoped>\n",
       "    .dataframe tbody tr th:only-of-type {\n",
       "        vertical-align: middle;\n",
       "    }\n",
       "\n",
       "    .dataframe tbody tr th {\n",
       "        vertical-align: top;\n",
       "    }\n",
       "\n",
       "    .dataframe thead th {\n",
       "        text-align: right;\n",
       "    }\n",
       "</style>\n",
       "<table border=\"1\" class=\"dataframe\">\n",
       "  <thead>\n",
       "    <tr style=\"text-align: right;\">\n",
       "      <th></th>\n",
       "      <th>ID</th>\n",
       "      <th>Description</th>\n",
       "      <th>#Tweets</th>\n",
       "      <th>Date_time_creation_account</th>\n",
       "      <th>Language</th>\n",
       "      <th>#Followers</th>\n",
       "      <th>#Friends</th>\n",
       "      <th>Date&amp;Time</th>\n",
       "      <th>#Favorite</th>\n",
       "      <th>#Retweet</th>\n",
       "      <th>Another Tweet Inside</th>\n",
       "      <th>Source</th>\n",
       "      <th>Tweet ID</th>\n",
       "      <th>Retweet ID</th>\n",
       "      <th>Quote ID</th>\n",
       "      <th>Reply ID</th>\n",
       "      <th>Frequency of tweet occurrences</th>\n",
       "      <th>State of Tweet</th>\n",
       "    </tr>\n",
       "  </thead>\n",
       "  <tbody>\n",
       "    <tr>\n",
       "      <th>0</th>\n",
       "      <td>2752994783</td>\n",
       "      <td>// Kirby// they/them // 20 // ENG: ok // FR: ok</td>\n",
       "      <td>2822</td>\n",
       "      <td>2014 , Aug , 28 , 01:49:22</td>\n",
       "      <td>en</td>\n",
       "      <td>34</td>\n",
       "      <td>68</td>\n",
       "      <td>['2017', 'Dec', '15', '15:42:41']</td>\n",
       "      <td>0</td>\n",
       "      <td>250</td>\n",
       "      <td>0</td>\n",
       "      <td>iPhone</td>\n",
       "      <td>941695012122910720</td>\n",
       "      <td>940977667104477185</td>\n",
       "      <td>Not a quote</td>\n",
       "      <td>None</td>\n",
       "      <td>213.0</td>\n",
       "      <td>r</td>\n",
       "    </tr>\n",
       "    <tr>\n",
       "      <th>1</th>\n",
       "      <td>21571977</td>\n",
       "      <td>Follow us for the latest headlines across the ...</td>\n",
       "      <td>3085</td>\n",
       "      <td>2009 , Feb , 22 , 15:32:48</td>\n",
       "      <td>en</td>\n",
       "      <td>21083</td>\n",
       "      <td>31</td>\n",
       "      <td>['2017', 'Dec', '15', '15:37:51']</td>\n",
       "      <td>0</td>\n",
       "      <td>0</td>\n",
       "      <td>0</td>\n",
       "      <td>iPhone</td>\n",
       "      <td>941693798056280064</td>\n",
       "      <td>Not a Retweet</td>\n",
       "      <td>Not a quote</td>\n",
       "      <td>None</td>\n",
       "      <td>1</td>\n",
       "      <td>n</td>\n",
       "    </tr>\n",
       "    <tr>\n",
       "      <th>2</th>\n",
       "      <td>3382041618</td>\n",
       "      <td>Growing minds... Changing lives.</td>\n",
       "      <td>46</td>\n",
       "      <td>2015 , Aug , 29 , 13:45:01</td>\n",
       "      <td>en</td>\n",
       "      <td>82</td>\n",
       "      <td>68</td>\n",
       "      <td>['2017', 'Dec', '15', '15:37:37']</td>\n",
       "      <td>0</td>\n",
       "      <td>0</td>\n",
       "      <td>0</td>\n",
       "      <td>iPhone</td>\n",
       "      <td>941693735678758912</td>\n",
       "      <td>Not a Retweet</td>\n",
       "      <td>Not a quote</td>\n",
       "      <td>None</td>\n",
       "      <td>1</td>\n",
       "      <td>n</td>\n",
       "    </tr>\n",
       "    <tr>\n",
       "      <th>3</th>\n",
       "      <td>348478568</td>\n",
       "      <td>NaN</td>\n",
       "      <td>2007</td>\n",
       "      <td>2011 , Aug , 04 , 14:08:52</td>\n",
       "      <td>en</td>\n",
       "      <td>26</td>\n",
       "      <td>270</td>\n",
       "      <td>['2017', 'Dec', '15', '15:37:16']</td>\n",
       "      <td>0</td>\n",
       "      <td>0</td>\n",
       "      <td>0</td>\n",
       "      <td>Client</td>\n",
       "      <td>941693648634372097</td>\n",
       "      <td>Not a Retweet</td>\n",
       "      <td>Not a quote</td>\n",
       "      <td>None</td>\n",
       "      <td>1</td>\n",
       "      <td>n</td>\n",
       "    </tr>\n",
       "    <tr>\n",
       "      <th>4</th>\n",
       "      <td>724097168152367104</td>\n",
       "      <td>One does not simply un-FeelTheBern! 🔥</td>\n",
       "      <td>13050</td>\n",
       "      <td>2016 , Apr , 24 , 04:46:32</td>\n",
       "      <td>en</td>\n",
       "      <td>166</td>\n",
       "      <td>287</td>\n",
       "      <td>['2017', 'Dec', '15', '15:35:34']</td>\n",
       "      <td>0</td>\n",
       "      <td>151</td>\n",
       "      <td>0</td>\n",
       "      <td>iPhone</td>\n",
       "      <td>941693221704536064</td>\n",
       "      <td>941044904742006786</td>\n",
       "      <td>Not a quote</td>\n",
       "      <td>None</td>\n",
       "      <td>140.0</td>\n",
       "      <td>a</td>\n",
       "    </tr>\n",
       "  </tbody>\n",
       "</table>\n",
       "</div>"
      ],
      "text/plain": [
       "                   ID                                        Description  \\\n",
       "0          2752994783    // Kirby// they/them // 20 // ENG: ok // FR: ok   \n",
       "1            21571977  Follow us for the latest headlines across the ...   \n",
       "2          3382041618                   Growing minds... Changing lives.   \n",
       "3           348478568                                                NaN   \n",
       "4  724097168152367104              One does not simply un-FeelTheBern! 🔥   \n",
       "\n",
       "   #Tweets  Date_time_creation_account Language  #Followers  #Friends  \\\n",
       "0     2822  2014 , Aug , 28 , 01:49:22       en          34        68   \n",
       "1     3085  2009 , Feb , 22 , 15:32:48       en       21083        31   \n",
       "2       46  2015 , Aug , 29 , 13:45:01       en          82        68   \n",
       "3     2007  2011 , Aug , 04 , 14:08:52       en          26       270   \n",
       "4    13050  2016 , Apr , 24 , 04:46:32       en         166       287   \n",
       "\n",
       "                           Date&Time  #Favorite  #Retweet  \\\n",
       "0  ['2017', 'Dec', '15', '15:42:41']          0       250   \n",
       "1  ['2017', 'Dec', '15', '15:37:51']          0         0   \n",
       "2  ['2017', 'Dec', '15', '15:37:37']          0         0   \n",
       "3  ['2017', 'Dec', '15', '15:37:16']          0         0   \n",
       "4  ['2017', 'Dec', '15', '15:35:34']          0       151   \n",
       "\n",
       "   Another Tweet Inside  Source            Tweet ID          Retweet ID  \\\n",
       "0                     0  iPhone  941695012122910720  940977667104477185   \n",
       "1                     0  iPhone  941693798056280064       Not a Retweet   \n",
       "2                     0  iPhone  941693735678758912       Not a Retweet   \n",
       "3                     0  Client  941693648634372097       Not a Retweet   \n",
       "4                     0  iPhone  941693221704536064  941044904742006786   \n",
       "\n",
       "      Quote ID Reply ID Frequency of tweet occurrences State of Tweet  \n",
       "0  Not a quote     None                          213.0              r  \n",
       "1  Not a quote     None                              1              n  \n",
       "2  Not a quote     None                              1              n  \n",
       "3  Not a quote     None                              1              n  \n",
       "4  Not a quote     None                          140.0              a  "
      ]
     },
     "execution_count": 7,
     "metadata": {},
     "output_type": "execute_result"
    }
   ],
   "source": [
    "df.head()"
   ]
  },
  {
   "cell_type": "code",
   "execution_count": 9,
   "metadata": {},
   "outputs": [
    {
     "data": {
      "text/plain": [
       "n    2334\n",
       "a     890\n",
       "r     135\n",
       "q      12\n",
       "Name: State of Tweet, dtype: int64"
      ]
     },
     "execution_count": 9,
     "metadata": {},
     "output_type": "execute_result"
    }
   ],
   "source": [
    "df[df['Retweet ID'] == 'Not a Retweet']['State of Tweet'].value_counts()"
   ]
  },
  {
   "cell_type": "code",
   "execution_count": null,
   "metadata": {},
   "outputs": [],
   "source": []
  }
 ],
 "metadata": {
  "kernelspec": {
   "display_name": "Python 3",
   "language": "python",
   "name": "python3"
  },
  "language_info": {
   "codemirror_mode": {
    "name": "ipython",
    "version": 3
   },
   "file_extension": ".py",
   "mimetype": "text/x-python",
   "name": "python",
   "nbconvert_exporter": "python",
   "pygments_lexer": "ipython3",
   "version": "3.7.1"
  }
 },
 "nbformat": 4,
 "nbformat_minor": 2
}
